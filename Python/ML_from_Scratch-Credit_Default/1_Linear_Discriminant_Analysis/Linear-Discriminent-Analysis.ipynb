{
 "cells": [
  {
   "cell_type": "markdown",
   "metadata": {},
   "source": [
    "# Linear Discriminant Analysis from Scratch: Credit Default"
   ]
  },
  {
   "cell_type": "markdown",
   "metadata": {},
   "source": [
    "- [Lab 1: Visualizing the Data ](#Visualizing-the-data)\n",
    "- [Lab 2: LDA from Scratch](#LDA-from-Scratch)\n",
    "- [Lab 3: Sklearn: LDA](#Sklearn)\n",
    "\n",
    "\n"
   ]
  },
  {
   "cell_type": "markdown",
   "metadata": {},
   "source": [
    "\n",
    "\n",
    "\n",
    "\n",
    "### The objective is to create Linear Discriminant Analysis implementation using NumPy. Implementing basic models is a great idea to improve your comprehension about how they work.\n",
    "\n",
    "### I'm building a Linear Discriminant Analysis from scratch and applying it with the Credit Default dataset, and then using Sklearn package for LogisticRegression to see if I get similar prediction results. This is just a toy exercice with teaching objectives.\n",
    "\n",
    "### The simulated Customer default records from a made up credit card company. The simulated dataset is partially exported from package 'ISLR' from R with added on features such as: Age, LTI,  and Monthly Payments Delayed. \n",
    "\n",
    "### The data is made up and it is not applicable on any actual company. I'm interested in predicting whether an individual will default on his or her credit card payment, on the basis of annual income and monthly credit card balance. The statistical methods that I'm following through are based from \"An Introduction to Statistical Learning with Applications in R\""
   ]
  },
  {
   "cell_type": "code",
   "execution_count": 6,
   "metadata": {},
   "outputs": [],
   "source": [
    "\n",
    "import pandas as pd\n",
    "import numpy as np\n",
    "import math\n",
    "import sys\n",
    "import matplotlib as mpl\n",
    "import matplotlib.pyplot as plt\n",
    "import seaborn as sns\n",
    "from itertools import combinations_with_replacement\n",
    "\n",
    "\n",
    "\n"
   ]
  },
  {
   "cell_type": "code",
   "execution_count": 7,
   "metadata": {},
   "outputs": [],
   "source": [
    "from numpy import linalg\n",
    "\n",
    "\n",
    "import matplotlib as mpl\n",
    "import matplotlib.pyplot as plt\n",
    "import seaborn as sns\n",
    "import numpy as np\n",
    "import matplotlib.pyplot as plt\n",
    "import sklearn.linear_model as skl_lm\n",
    "from sklearn.discriminant_analysis import LinearDiscriminantAnalysis\n",
    "from sklearn.discriminant_analysis import QuadraticDiscriminantAnalysis\n",
    "from sklearn.metrics import confusion_matrix, classification_report, precision_score\n",
    "from sklearn import preprocessing\n",
    "from sklearn import neighbors\n",
    "from sklearn import datasets\n",
    "\n",
    "import statsmodels.api as sm\n",
    "import statsmodels.formula.api as smf"
   ]
  },
  {
   "cell_type": "code",
   "execution_count": 9,
   "metadata": {},
   "outputs": [
    {
     "data": {
      "text/html": [
       "<div>\n",
       "<style scoped>\n",
       "    .dataframe tbody tr th:only-of-type {\n",
       "        vertical-align: middle;\n",
       "    }\n",
       "\n",
       "    .dataframe tbody tr th {\n",
       "        vertical-align: top;\n",
       "    }\n",
       "\n",
       "    .dataframe thead th {\n",
       "        text-align: right;\n",
       "    }\n",
       "</style>\n",
       "<table border=\"1\" class=\"dataframe\">\n",
       "  <thead>\n",
       "    <tr style=\"text-align: right;\">\n",
       "      <th></th>\n",
       "      <th>ID</th>\n",
       "      <th>default</th>\n",
       "      <th>student</th>\n",
       "      <th>balance</th>\n",
       "      <th>income</th>\n",
       "      <th>Age</th>\n",
       "      <th>LTI</th>\n",
       "      <th>Months Delayed</th>\n",
       "      <th>default2</th>\n",
       "      <th>student2</th>\n",
       "    </tr>\n",
       "  </thead>\n",
       "  <tbody>\n",
       "    <tr>\n",
       "      <th>0</th>\n",
       "      <td>1</td>\n",
       "      <td>No</td>\n",
       "      <td>No</td>\n",
       "      <td>729.526495</td>\n",
       "      <td>44361.625074</td>\n",
       "      <td>50.0</td>\n",
       "      <td>0.016445</td>\n",
       "      <td>0</td>\n",
       "      <td>0</td>\n",
       "      <td>0</td>\n",
       "    </tr>\n",
       "    <tr>\n",
       "      <th>1</th>\n",
       "      <td>2</td>\n",
       "      <td>No</td>\n",
       "      <td>Yes</td>\n",
       "      <td>817.180407</td>\n",
       "      <td>12106.134700</td>\n",
       "      <td>25.0</td>\n",
       "      <td>0.067501</td>\n",
       "      <td>0</td>\n",
       "      <td>0</td>\n",
       "      <td>1</td>\n",
       "    </tr>\n",
       "    <tr>\n",
       "      <th>2</th>\n",
       "      <td>3</td>\n",
       "      <td>No</td>\n",
       "      <td>No</td>\n",
       "      <td>1073.549164</td>\n",
       "      <td>31767.138947</td>\n",
       "      <td>39.0</td>\n",
       "      <td>0.033794</td>\n",
       "      <td>0</td>\n",
       "      <td>0</td>\n",
       "      <td>0</td>\n",
       "    </tr>\n",
       "  </tbody>\n",
       "</table>\n",
       "</div>"
      ],
      "text/plain": [
       "   ID default student      balance        income   Age       LTI  \\\n",
       "0   1      No      No   729.526495  44361.625074  50.0  0.016445   \n",
       "1   2      No     Yes   817.180407  12106.134700  25.0  0.067501   \n",
       "2   3      No      No  1073.549164  31767.138947  39.0  0.033794   \n",
       "\n",
       "   Months Delayed  default2  student2  \n",
       "0               0         0         0  \n",
       "1               0         0         1  \n",
       "2               0         0         0  "
      ]
     },
     "execution_count": 9,
     "metadata": {},
     "output_type": "execute_result"
    }
   ],
   "source": [
    "# In R, I exported the dataset from package 'ISLR' to an Excel file\n",
    "df = pd.read_excel('Default.xlsx')\n",
    "\n",
    "# Note: factorize() returns two objects: a label array and an array with the unique values.\n",
    "# We are only interested in the first object. \n",
    "df['default2'] = df.default.factorize()[0]\n",
    "df['student2'] = df.student.factorize()[0]\n",
    "\n",
    "# removing zero LTI \n",
    "df = df[df['LTI']!= 0]\n",
    "df.head(3)"
   ]
  },
  {
   "cell_type": "markdown",
   "metadata": {},
   "source": [
    "### Visualizing the data"
   ]
  },
  {
   "cell_type": "code",
   "execution_count": 6,
   "metadata": {},
   "outputs": [
    {
     "name": "stderr",
     "output_type": "stream",
     "text": [
      "/Users/michael/anaconda3/lib/python3.6/site-packages/matplotlib/axes/_base.py:3604: MatplotlibDeprecationWarning: \n",
      "The `ymin` argument was deprecated in Matplotlib 3.0 and will be removed in 3.2. Use `bottom` instead.\n",
      "  alternative='`bottom`', obj_type='argument')\n",
      "/Users/michael/anaconda3/lib/python3.6/site-packages/matplotlib/axes/_base.py:3215: MatplotlibDeprecationWarning: \n",
      "The `xmin` argument was deprecated in Matplotlib 3.0 and will be removed in 3.2. Use `left` instead.\n",
      "  alternative='`left`', obj_type='argument')\n"
     ]
    },
    {
     "data": {
      "image/png": "[encoded data removed]",
      "text/plain": [
       "<Figure size 864x360 with 3 Axes>"
      ]
     },
     "metadata": {
      "needs_background": "light"
     },
     "output_type": "display_data"
    }
   ],
   "source": [
    "fig = plt.figure(figsize=(12,5))\n",
    "gs = mpl.gridspec.GridSpec(1, 4)\n",
    "ax1 = plt.subplot(gs[0,:-2])\n",
    "ax2 = plt.subplot(gs[0,-2])\n",
    "ax3 = plt.subplot(gs[0,-1])\n",
    "\n",
    "# Take a fraction of the samples where target value (default) is 'no'\n",
    "df_no = df[df.default2 == 0].sample(frac=0.15)\n",
    "# Take all samples  where target value is 'yes'\n",
    "df_yes = df[df.default2 == 1]\n",
    "df_ = df_no.append(df_yes)\n",
    "\n",
    "ax1.scatter(df_[df_.default == 'Yes'].balance, df_[df_.default == 'Yes'].income, s=40, c='orange', marker='+',\n",
    "            linewidths=1)\n",
    "ax1.scatter(df_[df_.default == 'No'].balance, df_[df_.default == 'No'].income, s=40, marker='o', linewidths='1',\n",
    "            edgecolors='lightblue', facecolors='white', alpha=.6)\n",
    "\n",
    "ax1.set_ylim(ymin=0)\n",
    "ax1.set_ylabel('Income')\n",
    "ax1.set_xlim(xmin=-100)\n",
    "ax1.set_xlabel('Balance')\n",
    "\n",
    "c_palette = {'No':'lightblue', 'Yes':'orange'}\n",
    "sns.boxplot('default', 'balance', data=df, orient='v', ax=ax2, palette=c_palette)\n",
    "sns.boxplot('default', 'income', data=df, orient='v', ax=ax3, palette=c_palette)\n",
    "gs.tight_layout(plt.gcf())"
   ]
  },
  {
   "cell_type": "code",
   "execution_count": 7,
   "metadata": {},
   "outputs": [
    {
     "data": {
      "text/html": [
       "<div>\n",
       "<style scoped>\n",
       "    .dataframe tbody tr th:only-of-type {\n",
       "        vertical-align: middle;\n",
       "    }\n",
       "\n",
       "    .dataframe tbody tr th {\n",
       "        vertical-align: top;\n",
       "    }\n",
       "\n",
       "    .dataframe thead th {\n",
       "        text-align: right;\n",
       "    }\n",
       "</style>\n",
       "<table border=\"1\" class=\"dataframe\">\n",
       "  <thead>\n",
       "    <tr style=\"text-align: right;\">\n",
       "      <th>default</th>\n",
       "      <th>No</th>\n",
       "      <th>Yes</th>\n",
       "    </tr>\n",
       "    <tr>\n",
       "      <th>student</th>\n",
       "      <th></th>\n",
       "      <th></th>\n",
       "    </tr>\n",
       "  </thead>\n",
       "  <tbody>\n",
       "    <tr>\n",
       "      <th>No</th>\n",
       "      <td>26601</td>\n",
       "      <td>5295</td>\n",
       "    </tr>\n",
       "    <tr>\n",
       "      <th>Yes</th>\n",
       "      <td>5646</td>\n",
       "      <td>1227</td>\n",
       "    </tr>\n",
       "  </tbody>\n",
       "</table>\n",
       "</div>"
      ],
      "text/plain": [
       "default     No   Yes\n",
       "student             \n",
       "No       26601  5295\n",
       "Yes       5646  1227"
      ]
     },
     "execution_count": 7,
     "metadata": {},
     "output_type": "execute_result"
    }
   ],
   "source": [
    "df.groupby(['student','default']).size().unstack('default')"
   ]
  },
  {
   "cell_type": "markdown",
   "metadata": {},
   "source": [
    "## Lab 2"
   ]
  },
  {
   "cell_type": "markdown",
   "metadata": {},
   "source": [
    "### LDA from Scratch"
   ]
  },
  {
   "cell_type": "code",
   "execution_count": 14,
   "metadata": {},
   "outputs": [],
   "source": [
    "def normalize(X , axis =1, order=2):\n",
    "    '''normalize the dataset'''\n",
    "    l2 = np.atleast_1d(np.linalg.norm(X,order,axis))\n",
    "    l2[l2 == 0] = 1\n",
    "    return X / np.expand_dims(l2,axis)\n",
    "\n",
    "def standardize(X):\n",
    "    '''standardize the dataset'''\n",
    "    X_std = X\n",
    "    mean = X.mean(axis=0)\n",
    "    std = X.std(axis=0)\n",
    "    for col in range(np.shape(X)[1]):\n",
    "        if std[col]:\n",
    "            X_std[:,col] = (X_std[:,col] - mean[col]) / std[col]\n",
    "            print(X_std)\n",
    "    return X_std\n",
    "\n",
    "\n",
    "def shuffle_data(X, y, seed=None):\n",
    "    \"\"\" Random shuffle of the samples in X and y \"\"\"\n",
    "    if seed:\n",
    "        np.random.seed(seed)\n",
    "    idx = np.arange(X.shape[0])\n",
    "    np.random.shuffle(idx)\n",
    "    return X[idx], y[idx]\n",
    "\n",
    "\n",
    "def train_test_split(X, y, test_size=0.5, shuffle=True, seed=None):\n",
    "    \"\"\" Split the data into train and test sets \"\"\"\n",
    "    if shuffle:\n",
    "        X, y = shuffle_data(X, y, seed)\n",
    "    # Split the training data from test data in the ratio specified in\n",
    "    # test_size\n",
    "    split_i = len(y) - int(len(y) // (1 / test_size))\n",
    "    X_train, X_test = X[:split_i], X[split_i:]\n",
    "    y_train, y_test = y[:split_i], y[split_i:]\n",
    "\n",
    "    return X_train, X_test, y_train, y_test\n",
    "\n",
    "def accuracy_score(y_true, y_pred):\n",
    "    \"\"\" Compare y_true to y_pred and return the accuracy \"\"\"\n",
    "    accuracy = np.sum(y_true == y_pred, axis=0) / len(y_true)\n",
    "    return accuracy\n",
    "\n",
    "\n",
    "def covariance_matrix(X, Y=None):\n",
    "    \"\"\" Calculate the covariance matrix for the dataset X \"\"\"\n",
    "    if Y is None:\n",
    "        Y = X\n",
    "    n_samples = np.shape(X)[0]\n",
    "    covariance_matrix = (1 / (n_samples-1)) * (X - X.mean(axis=0)).T.dot(Y - Y.mean(axis=0))\n",
    "\n",
    "    return np.array(covariance_matrix, dtype=float)"
   ]
  },
  {
   "cell_type": "markdown",
   "metadata": {},
   "source": [
    "### Creating the class LDA"
   ]
  },
  {
   "cell_type": "code",
   "execution_count": 15,
   "metadata": {},
   "outputs": [],
   "source": [
    "from __future__ import print_function, division\n",
    "class LDA_Scratch():\n",
    "\n",
    "    def __init__(self):\n",
    "        self.w = None\n",
    "\n",
    "    def transform(self, X, y):\n",
    "        self.fit(X, y)\n",
    "        # Project data onto vector\n",
    "        X_transform = X.dot(self.w)\n",
    "\n",
    "        return X_transform\n",
    "\n",
    "    def fit(self, X, y):\n",
    "        # Separate data by class\n",
    "        X1 = X[y == 0]\n",
    "        X2 = X[y == 1]\n",
    "\n",
    "        # Calculate the covariance matrices of the two datasets\n",
    "        covariance_1 = covariance_matrix(X1)\n",
    "        covariance_2 = covariance_matrix(X2)\n",
    "        \n",
    "        covariance_total = covariance_1 + covariance_2\n",
    "        \n",
    "        print(covariance_total)\n",
    "        \n",
    "        # Calculate the mean of the two datasets\n",
    "        mean_1 = X1.mean(0)\n",
    "        mean_2 = X2.mean(0)\n",
    "        mean_difference = np.atleast_1d(mean_1 - mean_2)\n",
    "        \n",
    "        print(mean_difference)\n",
    "        \n",
    "        # Determine the vector which when X is projected onto it best separates the\n",
    "        # data by class. w = (mean_1 - mean_2) / (covariance_1 + covariance_2)\n",
    "        \n",
    "        self.w = np.linalg.pinv(covariance_total).dot(mean_difference)\n",
    "\n",
    "    def predict(self, X):\n",
    "        y_pred = []\n",
    "        for sample in X:\n",
    "            h = sample.dot(self.w)\n",
    "            y = 1 * (h < 0)\n",
    "            y_pred.append(y)\n",
    "        return y_pred"
   ]
  },
  {
   "cell_type": "code",
   "execution_count": 25,
   "metadata": {},
   "outputs": [
    {
     "name": "stdout",
     "output_type": "stream",
     "text": [
      "[[0.36572248 0.15804557 0.17139478 0.06084281]\n",
      " [0.15804557 0.21366718 0.08665131 0.05700358]\n",
      " [0.17139478 0.08665131 0.22886559 0.08124962]\n",
      " [0.06084281 0.05700358 0.08124962 0.05200128]]\n",
      "[-0.86917563  0.67562724 -2.7938172  -1.07894265]\n",
      "Accuracy: 1.0\n",
      "True default status         No   Yes\n",
      "Predicted default status            \n",
      "No                        19.0   NaN\n",
      "Yes                        NaN  14.0\n",
      "              precision    recall  f1-score   support\n",
      "\n",
      "           0       1.00      1.00      1.00        19\n",
      "           1       1.00      1.00      1.00        14\n",
      "\n",
      "   micro avg       1.00      1.00      1.00        33\n",
      "   macro avg       1.00      1.00      1.00        33\n",
      "weighted avg       1.00      1.00      1.00        33\n",
      "\n"
     ]
    }
   ],
   "source": [
    "def main():\n",
    "    # Load the dataset\n",
    "    data = datasets.load_iris()\n",
    "    X = data.data\n",
    "    y = data.target\n",
    "\n",
    "    # Three -> two classes\n",
    "    X = X[y != 2]\n",
    "    y = y[y != 2]\n",
    "\n",
    "    X_train, X_test, y_train, y_test = train_test_split(X, y, test_size=0.33)\n",
    "\n",
    "    # Fit and predict using LDA\n",
    "    lda = LDA_Scratch()\n",
    "    lda.fit(X_train, y_train)\n",
    "    y_pred = lda.predict(X_test)\n",
    "\n",
    "    accuracy = accuracy_score(y_test, y_pred)\n",
    "\n",
    "    print (\"Accuracy:\", accuracy)\n",
    "    df_ = pd.DataFrame({'True default status': y_test,\n",
    "                    'Predicted default status': y_pred})\n",
    "    df_.replace(to_replace={0:'No', 1:'Yes'}, inplace=True)\n",
    "\n",
    "    df_.groupby(['Predicted default status','True default status']).size().unstack('True default status')\n",
    "        #Plot().plot_in_2d(X_test, y_pred, title=\"LDA\", accuracy=accuracy)\n",
    "    print(df_.groupby(['Predicted default status','True default status']).size().unstack('True default status'))\n",
    "    print(classification_report(y_test, y_pred))\n",
    "if __name__ == \"__main__\":\n",
    "    main()\n",
    "    "
   ]
  },
  {
   "cell_type": "code",
   "execution_count": 16,
   "metadata": {},
   "outputs": [
    {
     "name": "stdout",
     "output_type": "stream",
     "text": [
      "[[ 2.34949895e+11  6.71810545e+10  1.91377885e+05  3.78692780e+05\n",
      "  -1.77450730e+05 -3.51209866e+04]\n",
      " [ 6.71810545e+10  2.44737051e+11  5.06991142e+05 -1.21761891e+05\n",
      "   1.07490795e+05 -7.24712931e+04]\n",
      " [ 1.91377885e+05  5.06991142e+05  2.27235592e+02 -8.55457378e-01\n",
      "  -5.62044097e-01 -4.67969145e+00]\n",
      " [ 3.78692780e+05 -1.21761891e+05 -8.55457378e-01  2.18006063e+00\n",
      "  -3.57846040e-01  3.04596914e-03]\n",
      " [-1.77450730e+05  1.07490795e+05 -5.62044097e-01 -3.57846040e-01\n",
      "   4.25793007e+00 -3.69760802e-02]\n",
      " [-3.51209866e+04 -7.24712931e+04 -4.67969145e+00  3.04596914e-03\n",
      "  -3.69760802e-02  2.98631497e-01]]\n",
      "[-6.88755413e+04  3.56271965e+04  1.66230665e+00 -5.03098289e-01\n",
      " -7.78719311e-01 -1.81505190e-02]\n",
      "Accuracy: 0.6277342137845646\n",
      "True default status         No   Yes\n",
      "Predicted default status            \n",
      "No                        4880   424\n",
      "Yes                       3184  1204\n",
      "              precision    recall  f1-score   support\n",
      "\n",
      "           0       0.92      0.61      0.73      8064\n",
      "           1       0.27      0.74      0.40      1628\n",
      "\n",
      "    accuracy                           0.63      9692\n",
      "   macro avg       0.60      0.67      0.57      9692\n",
      "weighted avg       0.81      0.63      0.67      9692\n",
      "\n"
     ]
    }
   ],
   "source": [
    "X = df[['balance','income', 'Age', 'LTI','Months Delayed', 'student2']].values\n",
    "\n",
    "y = df.default2.values\n",
    "\n",
    "# Three -> two classes\n",
    "X = X[y != 2]\n",
    "y = y[y != 2]\n",
    "\n",
    "seed = 8675309\n",
    "X_train, X_test, y_train, y_test = train_test_split(X, y, test_size=0.25)\n",
    "\n",
    "# Fit and predict using LDA\n",
    "lda = LDA_Scratch()\n",
    "lda.fit(X_train, y_train)\n",
    "y_pred = lda.predict(X_test)\n",
    "\n",
    "accuracy = accuracy_score(y_test, y_pred)\n",
    "\n",
    "print (\"Accuracy:\", accuracy)\n",
    "df_ = pd.DataFrame({'True default status': y_test,\n",
    "                'Predicted default status': y_pred})\n",
    "df_.replace(to_replace={0:'No', 1:'Yes'}, inplace=True)\n",
    "\n",
    "print(df_.groupby(['Predicted default status','True default status']).size().unstack('True default status'))\n",
    "print(classification_report(y_test, y_pred))\n",
    "\n"
   ]
  },
  {
   "cell_type": "code",
   "execution_count": 17,
   "metadata": {},
   "outputs": [
    {
     "name": "stdout",
     "output_type": "stream",
     "text": [
      "[[ 2.34476477e+11  6.59377650e+10  2.01502685e+05  3.79717112e+05\n",
      "  -1.75511761e+05 -3.41704411e+04]\n",
      " [ 6.59377650e+10  2.43249799e+11  5.00818236e+05 -1.21513308e+05\n",
      "   1.09493399e+05 -7.15747801e+04]\n",
      " [ 2.01502685e+05  5.00818236e+05  2.26974762e+02 -8.19863052e-01\n",
      "  -2.39251255e-01 -4.66546928e+00]\n",
      " [ 3.79717112e+05 -1.21513308e+05 -8.19863052e-01  2.07804948e+00\n",
      "  -3.61738981e-01  3.45642443e-03]\n",
      " [-1.75511761e+05  1.09493399e+05 -2.39251255e-01 -3.61738981e-01\n",
      "   4.22245653e+00 -4.48115646e-02]\n",
      " [-3.41704411e+04 -7.15747801e+04 -4.66546928e+00  3.45642443e-03\n",
      "  -4.48115646e-02  2.97197476e-01]]\n",
      "[-6.87542715e+04  3.54034400e+04  1.53201931e+00 -5.05179516e-01\n",
      " -7.67050351e-01 -1.30464202e-02]\n",
      "Accuracy: 0.0\n",
      "True default status          No   Yes\n",
      "Predicted default status             \n",
      "No                        19601  1700\n",
      "Yes                       12646  4822\n",
      "              precision    recall  f1-score   support\n",
      "\n",
      "           0       0.92      0.61      0.73     32247\n",
      "           1       0.28      0.74      0.40      6522\n",
      "\n",
      "    accuracy                           0.63     38769\n",
      "   macro avg       0.60      0.67      0.57     38769\n",
      "weighted avg       0.81      0.63      0.68     38769\n",
      "\n"
     ]
    },
    {
     "name": "stderr",
     "output_type": "stream",
     "text": [
      "/Users/michael/anaconda3/lib/python3.6/site-packages/ipykernel_launcher.py:42: DeprecationWarning: elementwise comparison failed; this will raise an error in the future.\n"
     ]
    }
   ],
   "source": [
    "# Fit and predict using LDA\n",
    "lda = LDA_Scratch()\n",
    "lda.fit(X,y)\n",
    "y_pred = lda.predict(X)\n",
    "\n",
    "accuracy = accuracy_score(X, y_pred)\n",
    "\n",
    "print (\"Accuracy:\", accuracy)\n",
    "df_ = pd.DataFrame({'True default status': y,\n",
    "                'Predicted default status': y_pred})\n",
    "df_.replace(to_replace={0:'No', 1:'Yes'}, inplace=True)\n",
    "\n",
    "print(df_.groupby(['Predicted default status','True default status']).size().unstack('True default status'))\n",
    "print(classification_report(y, y_pred))\n",
    "\n"
   ]
  },
  {
   "cell_type": "markdown",
   "metadata": {},
   "source": [
    "### Sklearn"
   ]
  },
  {
   "cell_type": "code",
   "execution_count": 22,
   "metadata": {},
   "outputs": [
    {
     "name": "stdout",
     "output_type": "stream",
     "text": [
      "9692\n",
      "Accuracy: 0.8277961205117623\n",
      "              precision    recall  f1-score   support\n",
      "\n",
      "          No       0.84      0.98      0.90      8064\n",
      "         Yes       0.44      0.09      0.15      1628\n",
      "\n",
      "    accuracy                           0.83      9692\n",
      "   macro avg       0.64      0.53      0.53      9692\n",
      "weighted avg       0.77      0.83      0.78      9692\n",
      "\n"
     ]
    }
   ],
   "source": [
    "from sklearn.discriminant_analysis import LinearDiscriminantAnalysis\n",
    "from sklearn.metrics import confusion_matrix, classification_report, precision_score\n",
    "#X_train, X_test, y_train, y_test = train_test_split(X, y, test_size=0.25)\n",
    "print(len(X_test))\n",
    "# Fit and predict using LDA\n",
    "lda = LinearDiscriminantAnalysis(solver='svd')\n",
    "lda.fit(X_train, y_train)\n",
    "\n",
    "y_pred = lda.predict(X_test)\n",
    "\n",
    "accuracy = accuracy_score(y_test, y_pred)\n",
    "print (\"Accuracy:\", accuracy)\n",
    "print(classification_report(y_test, y_pred, target_names=['No', 'Yes']))\n"
   ]
  },
  {
   "cell_type": "markdown",
   "metadata": {},
   "source": [
    "the LDA and logistic regression predictions are almost identical with 83% accuracy score. The LDA output indicates that πˆ1 = 0.84 and πˆ2 = 0.44; in other words, 84% of the training observations correspond to credit scores that are not defaulting. It also provides the group means; these are the average of each predictor within each class, and are used by LDA as estimates of μk. "
   ]
  },
  {
   "cell_type": "code",
   "execution_count": 29,
   "metadata": {},
   "outputs": [
    {
     "name": "stdout",
     "output_type": "stream",
     "text": [
      "True default status          No   Yes\n",
      "Predicted default status             \n",
      "No                        32221  6515\n",
      "Yes                          26     7\n",
      "              precision    recall  f1-score   support\n",
      "\n",
      "           0       0.83      1.00      0.91     32247\n",
      "           1       0.21      0.00      0.00      6522\n",
      "\n",
      "    accuracy                           0.83     38769\n",
      "   macro avg       0.52      0.50      0.45     38769\n",
      "weighted avg       0.73      0.83      0.76     38769\n",
      "\n"
     ]
    }
   ],
   "source": [
    "X = df[['balance','income']].values\n",
    "\n",
    "y = df.default2.values\n",
    "\n",
    "lda = LinearDiscriminantAnalysis(solver='lsqr')\n",
    "y_pred = lda.fit(X, y).predict(X)\n",
    "\n",
    "df_ = pd.DataFrame({'True default status': y,\n",
    "                    'Predicted default status': y_pred})\n",
    "df_.replace(to_replace={0:'No', 1:'Yes'}, inplace=True)\n",
    "\n",
    "print(df_.groupby(['Predicted default status','True default status']).size().unstack('True default status'))\n",
    "print(classification_report(y, y_pred))\n"
   ]
  },
  {
   "cell_type": "code",
   "execution_count": 30,
   "metadata": {},
   "outputs": [
    {
     "name": "stdout",
     "output_type": "stream",
     "text": [
      "              precision    recall  f1-score   support\n",
      "\n",
      "          No       0.83      1.00      0.91     32247\n",
      "         Yes       0.21      0.00      0.00      6522\n",
      "\n",
      "    accuracy                           0.83     38769\n",
      "   macro avg       0.52      0.50      0.45     38769\n",
      "weighted avg       0.73      0.83      0.76     38769\n",
      "\n"
     ]
    }
   ],
   "source": [
    "print(classification_report(y, y_pred, target_names=['No', 'Yes']))"
   ]
  },
  {
   "cell_type": "markdown",
   "metadata": {},
   "source": [
    "### Instead of using the probability of 50% as decision boundary, we say that a probability of default of 20% is to be classified as 'Yes'.\n",
    "\n",
    "the Bayes classifier, and by extension LDA, uses a threshold of 50 % for the posterior probability of default in order to assign an observation to the default class. However, if we are concerned about incorrectly pre- dicting the default status for individuals who default, then we can consider lowering this threshold. For instance, we might label any customer with a posterior probability of default above 20% to the default class."
   ]
  },
  {
   "cell_type": "code",
   "execution_count": 35,
   "metadata": {},
   "outputs": [
    {
     "name": "stdout",
     "output_type": "stream",
     "text": [
      "True default status          No   Yes\n",
      "Predicted default status             \n",
      "No                        28873  5472\n",
      "Yes                        3374  1050\n",
      "              precision    recall  f1-score   support\n",
      "\n",
      "           0       0.83      1.00      0.91     32247\n",
      "           1       0.21      0.00      0.00      6522\n",
      "\n",
      "    accuracy                           0.83     38769\n",
      "   macro avg       0.52      0.50      0.45     38769\n",
      "weighted avg       0.73      0.83      0.76     38769\n",
      "\n"
     ]
    }
   ],
   "source": [
    "decision_prob = 0.2\n",
    "y_prob = lda.fit(X, y).predict_proba(X)\n",
    "\n",
    "df_ = pd.DataFrame({'True default status': y,\n",
    "                    'Predicted default status': y_prob[:,1] > decision_prob})\n",
    "df_.replace(to_replace={0:'No', 1:'Yes', 'True':'Yes', 'False':'No'}, inplace=True)\n",
    "\n",
    "print(df_.groupby(['Predicted default status','True default status']).size().unstack('True default status'))\n",
    "print(classification_report(y, y_pred))"
   ]
  }
 ],
 "metadata": {
  "kernelspec": {
   "display_name": "Python 3",
   "language": "python",
   "name": "python3"
  },
  "language_info": {
   "codemirror_mode": {
    "name": "ipython",
    "version": 3
   },
   "file_extension": ".py",
   "mimetype": "text/x-python",
   "name": "python",
   "nbconvert_exporter": "python",
   "pygments_lexer": "ipython3",
   "version": "3.6.7"
  }
 },
 "nbformat": 4,
 "nbformat_minor": 2
}
