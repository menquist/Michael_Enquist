{
 "cells": [
  {
   "cell_type": "code",
   "execution_count": 3,
   "metadata": {},
   "outputs": [],
   "source": [
    "import pandas as pd\n",
    "from sklearn.linear_model import Ridge\n",
    "from sklearn.preprocessing import scale \n",
    "import numpy as np\n",
    "import pandas as pd\n",
    "import random\n",
    "import matplotlib.pyplot as plt\n",
    "%matplotlib inline\n",
    "from matplotlib.pylab import rcParams\n",
    "rcParams['figure.figsize'] = 12, 10"
   ]
  },
  {
   "cell_type": "code",
   "execution_count": 4,
   "metadata": {},
   "outputs": [
    {
     "data": {
      "text/html": [
       "<div>\n",
       "<style scoped>\n",
       "    .dataframe tbody tr th:only-of-type {\n",
       "        vertical-align: middle;\n",
       "    }\n",
       "\n",
       "    .dataframe tbody tr th {\n",
       "        vertical-align: top;\n",
       "    }\n",
       "\n",
       "    .dataframe thead th {\n",
       "        text-align: right;\n",
       "    }\n",
       "</style>\n",
       "<table border=\"1\" class=\"dataframe\">\n",
       "  <thead>\n",
       "    <tr style=\"text-align: right;\">\n",
       "      <th></th>\n",
       "      <th>ID</th>\n",
       "      <th>default</th>\n",
       "      <th>student</th>\n",
       "      <th>balance</th>\n",
       "      <th>income</th>\n",
       "      <th>Age</th>\n",
       "      <th>LTI</th>\n",
       "      <th>Months Delayed</th>\n",
       "      <th>default2</th>\n",
       "      <th>student2</th>\n",
       "    </tr>\n",
       "  </thead>\n",
       "  <tbody>\n",
       "    <tr>\n",
       "      <th>0</th>\n",
       "      <td>1</td>\n",
       "      <td>No</td>\n",
       "      <td>No</td>\n",
       "      <td>729.526495</td>\n",
       "      <td>44361.625074</td>\n",
       "      <td>50.0</td>\n",
       "      <td>0.016445</td>\n",
       "      <td>0</td>\n",
       "      <td>0</td>\n",
       "      <td>0</td>\n",
       "    </tr>\n",
       "    <tr>\n",
       "      <th>1</th>\n",
       "      <td>2</td>\n",
       "      <td>No</td>\n",
       "      <td>Yes</td>\n",
       "      <td>817.180407</td>\n",
       "      <td>12106.134700</td>\n",
       "      <td>25.0</td>\n",
       "      <td>0.067501</td>\n",
       "      <td>0</td>\n",
       "      <td>0</td>\n",
       "      <td>1</td>\n",
       "    </tr>\n",
       "    <tr>\n",
       "      <th>2</th>\n",
       "      <td>3</td>\n",
       "      <td>No</td>\n",
       "      <td>No</td>\n",
       "      <td>1073.549164</td>\n",
       "      <td>31767.138947</td>\n",
       "      <td>39.0</td>\n",
       "      <td>0.033794</td>\n",
       "      <td>0</td>\n",
       "      <td>0</td>\n",
       "      <td>0</td>\n",
       "    </tr>\n",
       "  </tbody>\n",
       "</table>\n",
       "</div>"
      ],
      "text/plain": [
       "   ID default student      balance        income   Age       LTI  \\\n",
       "0   1      No      No   729.526495  44361.625074  50.0  0.016445   \n",
       "1   2      No     Yes   817.180407  12106.134700  25.0  0.067501   \n",
       "2   3      No      No  1073.549164  31767.138947  39.0  0.033794   \n",
       "\n",
       "   Months Delayed  default2  student2  \n",
       "0               0         0         0  \n",
       "1               0         0         1  \n",
       "2               0         0         0  "
      ]
     },
     "execution_count": 4,
     "metadata": {},
     "output_type": "execute_result"
    }
   ],
   "source": [
    "# In R, I exported the dataset from package 'ISLR' to an Excel file\n",
    "df = pd.read_excel('Default.xlsx')\n",
    "\n",
    "# Note: factorize() returns two objects: a label array and an array with the unique values.\n",
    "# We are only interested in the first object. \n",
    "df['default2'] = df.default.factorize()[0]\n",
    "df['student2'] = df.student.factorize()[0]\n",
    "df.head(3)\n",
    "\n",
    "# removing zero LTI \n",
    "df = df[df['LTI']!= 0]\n",
    "df.head(3)"
   ]
  },
  {
   "cell_type": "code",
   "execution_count": 5,
   "metadata": {},
   "outputs": [
    {
     "data": {
      "text/plain": [
       "[5.468292485488746e-12,\n",
       " 0.16223014860863058,\n",
       " 1.2690059563233854e-08,\n",
       " -6.597733148619712e-09,\n",
       " -0.0002601238534357236,\n",
       " 0.01175458290430976,\n",
       " 0.009737469890911588,\n",
       " 0.0015743835197464988]"
      ]
     },
     "execution_count": 5,
     "metadata": {},
     "output_type": "execute_result"
    }
   ],
   "source": [
    "\n",
    "X = df[['balance','income', 'Age', 'LTI','Months Delayed', 'student2']].values\n",
    "\n",
    "y = df.default2.values\n",
    "\n",
    "\n",
    "ridgereg = Ridge(alpha=5,normalize=True)\n",
    "ridgereg.fit(X,y)\n",
    "y_pred = ridgereg.predict(X)\n",
    "\n",
    "#Return the result in pre-defined format\n",
    "rss = sum((y_pred-y**2))\n",
    "ret = [rss]\n",
    "ret.extend([ridgereg.intercept_])\n",
    "ret.extend(ridgereg.coef_)\n",
    "ret"
   ]
  },
  {
   "cell_type": "code",
   "execution_count": 6,
   "metadata": {},
   "outputs": [],
   "source": [
    "\n",
    "def ridge_regression(data, predictors, alpha, models_to_plot={}):\n",
    "    #Fit the model\n",
    "    ridgereg = Ridge(alpha=alpha,normalize=True)\n",
    "    ridgereg.fit(X,y)\n",
    "    y_pred = ridgereg.predict(X)\n",
    "    \n",
    "    #Check if a plot is to be made for the entered alpha\n",
    "    if alpha in models_to_plot:\n",
    "        plt.subplot(models_to_plot[alpha])\n",
    "        plt.tight_layout()\n",
    "        plt.plot(y,y_pred)\n",
    "        \n",
    "        plt.title('Plot for alpha: %.3g'%alpha)\n",
    "    \n",
    "\n",
    "    #Return the result in pre-defined format\n",
    "    rss = sum((y_pred-y**2))\n",
    "    ret = [rss]\n",
    "    ret.extend([ridgereg.intercept_])\n",
    "    ret.extend(ridgereg.coef_)\n",
    "    return ret"
   ]
  },
  {
   "cell_type": "code",
   "execution_count": 11,
   "metadata": {},
   "outputs": [
    {
     "data": {
      "image/png": "[encoded data removed]",
      "text/plain": [
       "<Figure size 432x288 with 6 Axes>"
      ]
     },
     "metadata": {
      "needs_background": "light"
     },
     "output_type": "display_data"
    }
   ],
   "source": [
    "#Set the different values of alpha to be tested\n",
    "alpha_ridge = [1e-15, 1e-10, 1e-8, 1e-4, 1e-3,1e-2, 1, 5, 10, 20]\n",
    "models_to_plot = {1e-15:231, 1e-10:232, 1e-4:233, 1e-3:234, 1e-2:235, 5:236}\n",
    "\n",
    "#Initialize the dataframe for storing coefficients.\n",
    "col = ['rss','intercept','balance','income', 'Age', 'LTI','Months Delayed', 'student2']  #+ ['coef_x_%d'%i for i in range(1,16)]\n",
    "ind = ['alpha_%.2g'%alpha_ridge[i] for i in range(0,10)]\n",
    "coef_matrix_ridge = pd.DataFrame(index=ind, columns=col)\n",
    "\n",
    "\n",
    "for i in range(10):\n",
    "    coef_matrix_ridge.iloc[i,] = ridge_regression(X, y, alpha_ridge[i], models_to_plot)"
   ]
  },
  {
   "cell_type": "code",
   "execution_count": 12,
   "metadata": {},
   "outputs": [
    {
     "data": {
      "text/html": [
       "<div>\n",
       "<style scoped>\n",
       "    .dataframe tbody tr th:only-of-type {\n",
       "        vertical-align: middle;\n",
       "    }\n",
       "\n",
       "    .dataframe tbody tr th {\n",
       "        vertical-align: top;\n",
       "    }\n",
       "\n",
       "    .dataframe thead th {\n",
       "        text-align: right;\n",
       "    }\n",
       "</style>\n",
       "<table border=\"1\" class=\"dataframe\">\n",
       "  <thead>\n",
       "    <tr style=\"text-align: right;\">\n",
       "      <th></th>\n",
       "      <th>rss</th>\n",
       "      <th>intercept</th>\n",
       "      <th>balance</th>\n",
       "      <th>income</th>\n",
       "      <th>Age</th>\n",
       "      <th>LTI</th>\n",
       "      <th>Months Delayed</th>\n",
       "      <th>student2</th>\n",
       "    </tr>\n",
       "  </thead>\n",
       "  <tbody>\n",
       "    <tr>\n",
       "      <th>alpha_1e-15</th>\n",
       "      <td>3.1e-12</td>\n",
       "      <td>0.12</td>\n",
       "      <td>1.2e-08</td>\n",
       "      <td>-4.7e-08</td>\n",
       "      <td>-0.00096</td>\n",
       "      <td>0.071</td>\n",
       "      <td>0.061</td>\n",
       "      <td>-0.0044</td>\n",
       "    </tr>\n",
       "    <tr>\n",
       "      <th>alpha_1e-10</th>\n",
       "      <td>-5.5e-13</td>\n",
       "      <td>0.12</td>\n",
       "      <td>1.2e-08</td>\n",
       "      <td>-4.7e-08</td>\n",
       "      <td>-0.00096</td>\n",
       "      <td>0.071</td>\n",
       "      <td>0.061</td>\n",
       "      <td>-0.0044</td>\n",
       "    </tr>\n",
       "    <tr>\n",
       "      <th>alpha_1e-08</th>\n",
       "      <td>9e-13</td>\n",
       "      <td>0.12</td>\n",
       "      <td>1.2e-08</td>\n",
       "      <td>-4.7e-08</td>\n",
       "      <td>-0.00096</td>\n",
       "      <td>0.071</td>\n",
       "      <td>0.061</td>\n",
       "      <td>-0.0044</td>\n",
       "    </tr>\n",
       "    <tr>\n",
       "      <th>alpha_0.0001</th>\n",
       "      <td>-6.3e-13</td>\n",
       "      <td>0.12</td>\n",
       "      <td>1.2e-08</td>\n",
       "      <td>-4.7e-08</td>\n",
       "      <td>-0.00096</td>\n",
       "      <td>0.071</td>\n",
       "      <td>0.061</td>\n",
       "      <td>-0.0044</td>\n",
       "    </tr>\n",
       "    <tr>\n",
       "      <th>alpha_0.001</th>\n",
       "      <td>-7.9e-13</td>\n",
       "      <td>0.12</td>\n",
       "      <td>1.2e-08</td>\n",
       "      <td>-4.7e-08</td>\n",
       "      <td>-0.00096</td>\n",
       "      <td>0.071</td>\n",
       "      <td>0.061</td>\n",
       "      <td>-0.0044</td>\n",
       "    </tr>\n",
       "    <tr>\n",
       "      <th>alpha_0.01</th>\n",
       "      <td>2.9e-12</td>\n",
       "      <td>0.12</td>\n",
       "      <td>1.3e-08</td>\n",
       "      <td>-4.7e-08</td>\n",
       "      <td>-0.00095</td>\n",
       "      <td>0.07</td>\n",
       "      <td>0.06</td>\n",
       "      <td>-0.0042</td>\n",
       "    </tr>\n",
       "    <tr>\n",
       "      <th>alpha_1</th>\n",
       "      <td>-5.5e-12</td>\n",
       "      <td>0.15</td>\n",
       "      <td>2.7e-08</td>\n",
       "      <td>-2.3e-08</td>\n",
       "      <td>-0.00064</td>\n",
       "      <td>0.034</td>\n",
       "      <td>0.03</td>\n",
       "      <td>0.0019</td>\n",
       "    </tr>\n",
       "    <tr>\n",
       "      <th>alpha_5</th>\n",
       "      <td>5.5e-12</td>\n",
       "      <td>0.16</td>\n",
       "      <td>1.3e-08</td>\n",
       "      <td>-6.6e-09</td>\n",
       "      <td>-0.00026</td>\n",
       "      <td>0.012</td>\n",
       "      <td>0.0097</td>\n",
       "      <td>0.0016</td>\n",
       "    </tr>\n",
       "    <tr>\n",
       "      <th>alpha_10</th>\n",
       "      <td>-2.7e-12</td>\n",
       "      <td>0.17</td>\n",
       "      <td>7.4e-09</td>\n",
       "      <td>-3.5e-09</td>\n",
       "      <td>-0.00015</td>\n",
       "      <td>0.0065</td>\n",
       "      <td>0.0053</td>\n",
       "      <td>0.00098</td>\n",
       "    </tr>\n",
       "    <tr>\n",
       "      <th>alpha_20</th>\n",
       "      <td>7.3e-12</td>\n",
       "      <td>0.17</td>\n",
       "      <td>4.1e-09</td>\n",
       "      <td>-1.8e-09</td>\n",
       "      <td>-8e-05</td>\n",
       "      <td>0.0034</td>\n",
       "      <td>0.0028</td>\n",
       "      <td>0.00055</td>\n",
       "    </tr>\n",
       "  </tbody>\n",
       "</table>\n",
       "</div>"
      ],
      "text/plain": [
       "                  rss intercept balance   income      Age    LTI  \\\n",
       "alpha_1e-15   3.1e-12      0.12 1.2e-08 -4.7e-08 -0.00096  0.071   \n",
       "alpha_1e-10  -5.5e-13      0.12 1.2e-08 -4.7e-08 -0.00096  0.071   \n",
       "alpha_1e-08     9e-13      0.12 1.2e-08 -4.7e-08 -0.00096  0.071   \n",
       "alpha_0.0001 -6.3e-13      0.12 1.2e-08 -4.7e-08 -0.00096  0.071   \n",
       "alpha_0.001  -7.9e-13      0.12 1.2e-08 -4.7e-08 -0.00096  0.071   \n",
       "alpha_0.01    2.9e-12      0.12 1.3e-08 -4.7e-08 -0.00095   0.07   \n",
       "alpha_1      -5.5e-12      0.15 2.7e-08 -2.3e-08 -0.00064  0.034   \n",
       "alpha_5       5.5e-12      0.16 1.3e-08 -6.6e-09 -0.00026  0.012   \n",
       "alpha_10     -2.7e-12      0.17 7.4e-09 -3.5e-09 -0.00015 0.0065   \n",
       "alpha_20      7.3e-12      0.17 4.1e-09 -1.8e-09   -8e-05 0.0034   \n",
       "\n",
       "             Months Delayed student2  \n",
       "alpha_1e-15           0.061  -0.0044  \n",
       "alpha_1e-10           0.061  -0.0044  \n",
       "alpha_1e-08           0.061  -0.0044  \n",
       "alpha_0.0001          0.061  -0.0044  \n",
       "alpha_0.001           0.061  -0.0044  \n",
       "alpha_0.01             0.06  -0.0042  \n",
       "alpha_1                0.03   0.0019  \n",
       "alpha_5              0.0097   0.0016  \n",
       "alpha_10             0.0053  0.00098  \n",
       "alpha_20             0.0028  0.00055  "
      ]
     },
     "execution_count": 12,
     "metadata": {},
     "output_type": "execute_result"
    }
   ],
   "source": [
    "#Set the display format to be scientific for ease of analysis\n",
    "pd.options.display.float_format = '{:,.2g}'.format\n",
    "coef_matrix_ridge"
   ]
  },
  {
   "cell_type": "code",
   "execution_count": 13,
   "metadata": {},
   "outputs": [
    {
     "data": {
      "image/png": "[encoded data removed]",
      "text/plain": [
       "<Figure size 432x288 with 1 Axes>"
      ]
     },
     "metadata": {
      "needs_background": "light"
     },
     "output_type": "display_data"
    }
   ],
   "source": [
    "alphas = 10**np.linspace(10,-2,100)*0.5\n",
    "\n",
    "ridge = Ridge()\n",
    "coefs = []\n",
    "\n",
    "for a in alphas:\n",
    "    ridge.set_params(alpha=a)\n",
    "    ridge.fit(scale(X), y)\n",
    "    coefs.append(ridge.coef_)\n",
    "\n",
    "ax = plt.gca()\n",
    "ax.plot(alphas, coefs)\n",
    "ax.set_xscale('log')\n",
    "ax.set_xlim(ax.get_xlim()[::-1])  # reverse axis\n",
    "plt.axis('tight')\n",
    "plt.xlabel('alpha')\n",
    "plt.ylabel('weights')\n",
    "plt.title('Ridge coefficients as a function of the regularization');"
   ]
  },
  {
   "cell_type": "markdown",
   "metadata": {},
   "source": [
    "### The above plot shows that the Ridge coefficients get larger when we decrease alpha."
   ]
  },
  {
   "cell_type": "code",
   "execution_count": 14,
   "metadata": {},
   "outputs": [
    {
     "data": {
      "text/plain": [
       "alpha_1e-15     0\n",
       "alpha_1e-10     0\n",
       "alpha_1e-08     0\n",
       "alpha_0.0001    0\n",
       "alpha_0.001     0\n",
       "alpha_0.01      0\n",
       "alpha_1         0\n",
       "alpha_5         0\n",
       "alpha_10        0\n",
       "alpha_20        0\n",
       "dtype: int64"
      ]
     },
     "execution_count": 14,
     "metadata": {},
     "output_type": "execute_result"
    }
   ],
   "source": [
    "coef_matrix_ridge.apply(lambda x: sum(x.values==0),axis=1)"
   ]
  },
  {
   "cell_type": "code",
   "execution_count": null,
   "metadata": {},
   "outputs": [],
   "source": []
  }
 ],
 "metadata": {
  "kernelspec": {
   "display_name": "Python 3",
   "language": "python",
   "name": "python3"
  },
  "language_info": {
   "codemirror_mode": {
    "name": "ipython",
    "version": 3
   },
   "file_extension": ".py",
   "mimetype": "text/x-python",
   "name": "python",
   "nbconvert_exporter": "python",
   "pygments_lexer": "ipython3",
   "version": "3.6.7"
  }
 },
 "nbformat": 4,
 "nbformat_minor": 2
}
