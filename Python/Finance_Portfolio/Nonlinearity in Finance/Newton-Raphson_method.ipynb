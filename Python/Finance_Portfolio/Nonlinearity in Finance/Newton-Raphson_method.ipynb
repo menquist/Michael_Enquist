{
 "cells": [
  {
   "cell_type": "markdown",
   "metadata": {},
   "source": [
    "### The Newton-Raphson method:\n",
    "#### The Newton-Raphson method, uses an iterative procedure to solve for a root using information about the derivative of a function. The derivative is treated as a linear problem to be solved. "
   ]
  },
  {
   "cell_type": "code",
   "execution_count": 1,
   "metadata": {},
   "outputs": [
    {
     "name": "stdout",
     "output_type": "stream",
     "text": [
      "Root is: 1.1038034027356114\n",
      "Iterations: 7\n"
     ]
    }
   ],
   "source": [
    "\n",
    "\"\"\" The Newton-Raphson method \"\"\"\n",
    "\"\"\" # Reference from Mastering Python for Finance \"\"\"\n",
    "\n",
    "def newton(f, df, x, tol=0.001, maxiter=100):\n",
    "    \"\"\"\n",
    "    :param f: The function to solve\n",
    "    :param df: The derivative function of f\n",
    "    :param x: Initial guess value of x\n",
    "    :param tol: The precision of the solution\n",
    "    :param maxiter: Maximum number of iterations\n",
    "    :return: The x-axis value of the root,\n",
    "                number of iterations used\n",
    "    \"\"\"\n",
    "    n = 1\n",
    "    while n <= maxiter:\n",
    "        x1 = x - f(x)/df(x)\n",
    "        if abs(x1 - x) < tol:  # Root is very close\n",
    "            return x1, n\n",
    "        else:\n",
    "            x = x1\n",
    "            n += 1\n",
    "\n",
    "    return None, n\n",
    "\n",
    "if __name__ == \"__main__\":\n",
    "    y = lambda x: x**3 + 3*x**2 - 5\n",
    "    dy = lambda x: 3*x**2 + 6*x\n",
    "    root, iterations = newton(y, dy, 5.0, 0.00001, 100)\n",
    "    print(\"Root is:\", root)\n",
    "    print(\"Iterations:\", iterations)\n",
    "\n"
   ]
  },
  {
   "cell_type": "markdown",
   "metadata": {},
   "source": [
    "#### With Newton's method, we obtained a really close solution with less iteration over the bisection method and the incredmental method."
   ]
  }
 ],
 "metadata": {
  "kernelspec": {
   "display_name": "Python 3",
   "language": "python",
   "name": "python3"
  },
  "language_info": {
   "codemirror_mode": {
    "name": "ipython",
    "version": 3
   },
   "file_extension": ".py",
   "mimetype": "text/x-python",
   "name": "python",
   "nbconvert_exporter": "python",
   "pygments_lexer": "ipython3",
   "version": "3.6.7"
  }
 },
 "nbformat": 4,
 "nbformat_minor": 2
}
