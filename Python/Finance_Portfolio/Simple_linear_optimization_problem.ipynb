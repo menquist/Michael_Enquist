{
 "cells": [
  {
   "cell_type": "code",
   "execution_count": null,
   "metadata": {},
   "outputs": [],
   "source": [
    "### An example of an integer programming model with binary conditions"
   ]
  },
  {
   "cell_type": "code",
   "execution_count": 5,
   "metadata": {},
   "outputs": [
    {
     "name": "stdout",
     "output_type": "stream",
     "text": [
      "Minimization Results:\n",
      "orders_X = 1.0\n",
      "orders_Y = 1.0\n",
      "orders_Z = 0.0\n",
      "quantity_X = 100.0\n",
      "quantity_Y = 90.0\n",
      "quantity_Z = 0.0\n",
      "Total cost: 92520.0\n"
     ]
    }
   ],
   "source": [
    "\n",
    "\n",
    "import pulp\n",
    "\n",
    "dealers = [\"X\", \"Y\", \"Z\"]\n",
    "variable_costs = {\"X\": 466,\n",
    "                  \"Y\": 388,\n",
    "                  \"Z\": 480}\n",
    "fixed_costs = {\"X\": 5000,\n",
    "               \"Y\": 6000,\n",
    "               \"Z\": 1000}\n",
    "\n",
    "# Define PuLP variables to solve\n",
    "quantities = pulp.LpVariable.dicts(\"quantity\",\n",
    "                                   dealers,\n",
    "                                   lowBound=0,\n",
    "                                   cat=pulp.LpInteger)\n",
    "is_orders = pulp.LpVariable.dicts(\"orders\", dealers,\n",
    "                                  cat=pulp.LpBinary)\n",
    "\n",
    "\"\"\"\n",
    "This is an example of implementing an IP model with binary\n",
    "variables the correct way.\n",
    "\"\"\"\n",
    "# Initialize the model with constraints\n",
    "model = pulp.LpProblem(\"A cost minimization problem\",\n",
    "                       pulp.LpMinimize)\n",
    "model += sum([variable_costs[i]*quantities[i] +\n",
    "              fixed_costs[i]*is_orders[i] for i in dealers]), \\\n",
    "         \"Minimize portfolio cost\"\n",
    "model += sum([quantities[i] for i in dealers]) == 190, \\\n",
    "         \"Total contracts required\"\n",
    "model += is_orders[\"X\"]*30 <= quantities[\"X\"] <= \\\n",
    "         is_orders[\"X\"]*100, \"Boundary of total volume of X\"\n",
    "model += is_orders[\"Y\"]*30 <= quantities[\"Y\"] <= \\\n",
    "         is_orders[\"Y\"]*90, \"Boundary of total volume of Y\"\n",
    "model += is_orders[\"Z\"]*30 <= quantities[\"Z\"] <= \\\n",
    "         is_orders[\"Z\"]*35, \"Boundary of total volume of Z\"\n",
    "model.solve()\n",
    "\n",
    "print(\"Minimization Results:\")\n",
    "for variable in model.variables():\n",
    "    print(variable, \"=\", variable.varValue)\n",
    "\n",
    "print(\"Total cost: %s\" % pulp.value(model.objective))"
   ]
  }
 ],
 "metadata": {
  "kernelspec": {
   "display_name": "Python 3",
   "language": "python",
   "name": "python3"
  },
  "language_info": {
   "codemirror_mode": {
    "name": "ipython",
    "version": 3
   },
   "file_extension": ".py",
   "mimetype": "text/x-python",
   "name": "python",
   "nbconvert_exporter": "python",
   "pygments_lexer": "ipython3",
   "version": "3.6.7"
  }
 },
 "nbformat": 4,
 "nbformat_minor": 2
}
