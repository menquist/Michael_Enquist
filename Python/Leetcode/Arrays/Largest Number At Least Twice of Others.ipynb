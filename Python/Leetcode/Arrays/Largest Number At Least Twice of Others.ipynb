{
 "cells": [
  {
   "cell_type": "code",
   "execution_count": null,
   "metadata": {
    "collapsed": true
   },
   "outputs": [],
   "source": [
    "\n",
    "'''In a given integer array nums, there is always exactly one largest element.\n",
    "\n",
    "Find whether the largest element in the array is at least twice as much as every other number in the array.\n",
    "\n",
    "If it is, return the index of the largest element, otherwise return -1.\n",
    "\n",
    "Example 1:\n",
    "\n",
    "Input: nums = [3, 6, 1, 0]\n",
    "Output: 1\n",
    "Explanation: 6 is the largest integer, and for every other number in the array x,\n",
    "6 is more than twice as big as x.  The index of value 6 is 1, so we return 1.\n",
    " \n",
    "\n",
    "Example 2:\n",
    "\n",
    "Input: nums = [1, 2, 3, 4]\n",
    "Output: -1\n",
    "Explanation: 4 isn't at least as big as twice the value of 3, so we return -1.\n",
    " \n",
    "\n",
    "Note:\n",
    "\n",
    "nums will have a length in the range [1, 50].\n",
    "Every nums[i] will be an integer in the range [0, 99].'''\n",
    " \n",
    "class Solution:\n",
    "    def dominantIndex(self, nums):\n",
    "        if len(nums) == 0: return -1\n",
    "\n",
    "        highest = -1\n",
    "        secondHighest = -1\n",
    "        highestIndex = 0\n",
    "        \n",
    "        for i,n in enumerate(nums):\n",
    "            if n >= highest:\n",
    "                secondHighest = highest\n",
    "                highest = n\n",
    "                highestIndex = i\n",
    "            elif n > secondHighest:\n",
    "                secondHighest = n\n",
    "\n",
    "        if highest < secondHighest*2:\n",
    "            highestIndex = -1\n",
    "        \n",
    "        return highestIndex    \n"
   ]
  }
 ],
 "metadata": {
  "kernelspec": {
   "display_name": "Python 3",
   "language": "python",
   "name": "python3"
  },
  "language_info": {
   "codemirror_mode": {
    "name": "ipython",
    "version": 3
   },
   "file_extension": ".py",
   "mimetype": "text/x-python",
   "name": "python",
   "nbconvert_exporter": "python",
   "pygments_lexer": "ipython3",
   "version": "3.6.3"
  }
 },
 "nbformat": 4,
 "nbformat_minor": 2
}
