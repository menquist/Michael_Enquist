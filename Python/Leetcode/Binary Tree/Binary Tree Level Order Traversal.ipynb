{
 "cells": [
  {
   "cell_type": "code",
   "execution_count": 1,
   "metadata": {
    "collapsed": true
   },
   "outputs": [],
   "source": [
    "'''\n",
    "  Binary Tree Level Order Traversal\n",
    "  Go to Discuss\n",
    "Given a binary tree, return the level order traversal of its nodes' values. (ie, from left to right, level by level).\n",
    "\n",
    "For example:\n",
    "Given binary tree [3,9,20,null,null,15,7],\n",
    "    3\n",
    "   / \\\n",
    "  9  20\n",
    "    /  \\\n",
    "   15   7\n",
    "return its level order traversal as:\n",
    "[\n",
    "  [3],\n",
    "  [9,20],\n",
    "  [15,7]\n",
    "]\n",
    "\n",
    "\n",
    "'''\n",
    "\n",
    "from collections import deque, namedtuple\n",
    "\n",
    "NodeWithDepth = namedtuple('NodeWithDepth', ['node', 'depth'])\n",
    "\n",
    "\n",
    "class TreeNode(object):\n",
    "    def __init__(self, x):\n",
    "        self.val = x\n",
    "        self.left = None\n",
    "        self.right = None\n",
    "\n",
    "\n",
    "class Solution(object):\n",
    "    def levelOrder(self, root):\n",
    "        # T(n) = S(n) = O(n)\n",
    "        levels = []\n",
    "        if not root:\n",
    "            return levels\n",
    "        q = deque([NodeWithDepth(root, 0)])\n",
    "        while q:\n",
    "            node, depth = q.popleft()\n",
    "            if len(levels) == depth:\n",
    "                levels.append([])\n",
    "            levels[depth].append(node.val)\n",
    "            if node.left:\n",
    "                q.append(NodeWithDepth(node.left, depth+1))\n",
    "            if node.right:\n",
    "                q.append(NodeWithDepth(node.right, depth+1))\n",
    "        return levels\n"
   ]
  }
 ],
 "metadata": {
  "kernelspec": {
   "display_name": "Python 3",
   "language": "python",
   "name": "python3"
  },
  "language_info": {
   "codemirror_mode": {
    "name": "ipython",
    "version": 3
   },
   "file_extension": ".py",
   "mimetype": "text/x-python",
   "name": "python",
   "nbconvert_exporter": "python",
   "pygments_lexer": "ipython3",
   "version": "3.6.3"
  }
 },
 "nbformat": 4,
 "nbformat_minor": 2
}
