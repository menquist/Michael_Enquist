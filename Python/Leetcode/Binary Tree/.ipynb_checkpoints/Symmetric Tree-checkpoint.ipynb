{
 "cells": [
  {
   "cell_type": "code",
   "execution_count": 1,
   "metadata": {
    "collapsed": true
   },
   "outputs": [],
   "source": [
    "\n",
    "'''\n",
    "  Symmetric Tree\n",
    "  Go to Discuss\n",
    "Given a binary tree, check whether it is a mirror of itself (ie, symmetric around its center).\n",
    "\n",
    "For example, this binary tree [1,2,2,3,4,4,3] is symmetric:\n",
    "\n",
    "    1\n",
    "   / \\\n",
    "  2   2\n",
    " / \\ / \\\n",
    "3  4 4  3\n",
    "But the following [1,2,2,null,3,null,3] is not:\n",
    "    1\n",
    "   / \\\n",
    "  2   2\n",
    "   \\   \\\n",
    "   3    3\n",
    "Note:\n",
    "Bonus points if you could solve it both recursively and iteratively.\n",
    "'''\n",
    "\n",
    "# Definition for a binary tree node.\n",
    "# class TreeNode:\n",
    "#     def __init__(self, x):\n",
    "#         self.val = x\n",
    "#         self.left = None\n",
    "#         self.right = None\n",
    "\n",
    "\n",
    "class Solution:\n",
    "    def isSymmetric(self, root):\n",
    "        \"\"\"\n",
    "        :type root: TreeNode\n",
    "        :rtype: bool\n",
    "        \"\"\"\n",
    "        queue = [root]\n",
    "        \n",
    "        while queue:\n",
    "            old_q, queue = queue, []\n",
    "\n",
    "            level = [item.val if item else 'X' for item in old_q]\n",
    "            \n",
    "            if level != level[::-1]:\n",
    "                return False\n",
    "            \n",
    "            for item in old_q:\n",
    "                if item:\n",
    "                    queue += [item.left, item.right]\n",
    "                    \n",
    "        return True        "
   ]
  }
 ],
 "metadata": {
  "kernelspec": {
   "display_name": "Python 3",
   "language": "python",
   "name": "python3"
  },
  "language_info": {
   "codemirror_mode": {
    "name": "ipython",
    "version": 3
   },
   "file_extension": ".py",
   "mimetype": "text/x-python",
   "name": "python",
   "nbconvert_exporter": "python",
   "pygments_lexer": "ipython3",
   "version": "3.6.3"
  }
 },
 "nbformat": 4,
 "nbformat_minor": 2
}
