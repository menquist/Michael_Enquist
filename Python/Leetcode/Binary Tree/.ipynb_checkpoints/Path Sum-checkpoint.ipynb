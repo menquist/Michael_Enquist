{
 "cells": [
  {
   "cell_type": "code",
   "execution_count": 1,
   "metadata": {
    "collapsed": true
   },
   "outputs": [],
   "source": [
    "\"\"\"\n",
    "Path Sum\n",
    "  Go to Discuss\n",
    "Given a binary tree and a sum, determine if the tree has a root-to-leaf path such that adding up all the values along the path equals the given sum.\n",
    "\n",
    "Note: A leaf is a node with no children.\n",
    "\n",
    "Example:\n",
    "\n",
    "Given the below binary tree and sum = 22,\n",
    "\n",
    "      5\n",
    "     / \\\n",
    "    4   8\n",
    "   /   / \\\n",
    "  11  13  4\n",
    " /  \\      \\\n",
    "7    2      1\n",
    "return true, as there exist a root-to-leaf path 5->4->11->2 which sum is 22.\n",
    "\"\"\"\n",
    "\n",
    "# Definition for a  binary tree node\n",
    "# class TreeNode:\n",
    "#     def __init__(self, x):\n",
    "#         self.val = x\n",
    "#         self.left = None\n",
    "#         self.right = None\n",
    "\n",
    "class Solution:\n",
    "    # @param root, a tree node\n",
    "    # @param sum, an integer\n",
    "    # @return a boolean\n",
    "    # 1:27\n",
    "    def hasPathSum(self, root, sum):\n",
    "        if not root:\n",
    "            return False\n",
    "\n",
    "        if not root.left and not root.right and root.val == sum:\n",
    "            return True\n",
    "        \n",
    "        sum -= root.val\n",
    "\n",
    "        return self.hasPathSum(root.left, sum) or self.hasPathSum(root.right, sum)"
   ]
  }
 ],
 "metadata": {
  "kernelspec": {
   "display_name": "Python 3",
   "language": "python",
   "name": "python3"
  },
  "language_info": {
   "codemirror_mode": {
    "name": "ipython",
    "version": 3
   },
   "file_extension": ".py",
   "mimetype": "text/x-python",
   "name": "python",
   "nbconvert_exporter": "python",
   "pygments_lexer": "ipython3",
   "version": "3.6.3"
  }
 },
 "nbformat": 4,
 "nbformat_minor": 2
}
