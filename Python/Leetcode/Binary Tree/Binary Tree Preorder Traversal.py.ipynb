{
 "cells": [
  {
   "cell_type": "code",
   "execution_count": null,
   "metadata": {
    "collapsed": true
   },
   "outputs": [],
   "source": [
    "'''LeetCode\n",
    "Explore\n",
    "Problems\n",
    "Mock \n",
    "Contest\n",
    "Articles\n",
    "Discuss\n",
    " Store \n",
    " Premium\n",
    "New Playground\n",
    "menquist\n",
    "  Back to Chapter\n",
    "Traverse A Tree\n",
    "In the introduction, we have gone through the concept of a tree and a binary tree. In this chapter, we will focus on the traversal methods used in a binary tree. Understanding these traversal methods will definitely help you have a better understanding of the tree structure and have a solid foundation for the further study. The goal of this chapter is to: Understand the difference between different tree traversal methods; Be able to solve preorder, inorder and postorder traversal recursively; Be able to solve preorder, inorder and postorder traversal iteratively; Be able to do level traversal using BFS.\n",
    "  Traverse a Tree - Introduction\n",
    "  Binary Tree Preorder Traversal\n",
    "  Binary Tree Inorder Traversal\n",
    "  Binary Tree Postorder Traversal\n",
    "  Binary Tree Traversal - Solultion\n",
    "  Level-order Traversal - Introduction\n",
    "  \n",
    "  \n",
    "Solve Problems Recursively\n",
    "In previous sections, we have introduced how to solve tree traversal problem. And we tried to solve preorder, inorder and postorder traversal recursively. Actually, recursion is one of the most powerful and frequently-used methods for solving tree related problems. We are going to introduce two typical recursive solutions for solving tree-related problems. After completing this chapter, you should be able to solve basic recursion problems related to a binary tree by yourself.\n",
    "Conclusion\n",
    "After finishing the previous chapters, you should be familiar with binary trees be able to solve basic problems related to them. In this chapter, we are going to provide you more exercise to help you be more confident with this topic.\n",
    "Discuss\n",
    " PreviousNext \n",
    "  Binary Tree Preorder Traversal\n",
    "Given a binary tree, return the preorder traversal of its nodes' values.\n",
    "\n",
    "Example:\n",
    "\n",
    "Input: [1,null,2,3]\n",
    "   1\n",
    "    \\\n",
    "     2\n",
    "    /\n",
    "   3\n",
    "\n",
    "Output: [1,2,3]\n",
    "Follow up: Recursive solution is trivial, could you do it iteratively?\n",
    "\n",
    "Python3\t\n",
    "\n",
    "\n",
    "1\n",
    "class Solution(object):\n",
    "2\n",
    "    def preorderTraversal(self, root):\n",
    "3\n",
    "        return [] if not root else [root.val] + self.preorderTraversal(root.left) + self.preorderTraversal(root.right)\n",
    "  Custom Testcase( Contribute  )\n",
    "'''\n",
    "class Solution(object):\n",
    "    def preorderTraversal(self, root):\n",
    "        return [] if not root else [root.val] + self.preorderTraversal(root.left) + self.preorderTraversal(root.right)"
   ]
  }
 ],
 "metadata": {
  "kernelspec": {
   "display_name": "Python 3",
   "language": "python",
   "name": "python3"
  },
  "language_info": {
   "codemirror_mode": {
    "name": "ipython",
    "version": 3
   },
   "file_extension": ".py",
   "mimetype": "text/x-python",
   "name": "python",
   "nbconvert_exporter": "python",
   "pygments_lexer": "ipython3",
   "version": "3.6.3"
  }
 },
 "nbformat": 4,
 "nbformat_minor": 2
}
