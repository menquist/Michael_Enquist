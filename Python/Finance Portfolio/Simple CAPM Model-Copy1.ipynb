{
 "cells": [
  {
   "cell_type": "markdown",
   "metadata": {},
   "source": [
    "### A simple least squares regression on the CAPM model, and derive the values of α and βi by running the following code in Python: APPLE and S&P 500"
   ]
  },
  {
   "cell_type": "code",
   "execution_count": 2,
   "metadata": {},
   "outputs": [
    {
     "name": "stdout",
     "output_type": "stream",
     "text": [
      "0.17265316218059468 0.00014309321721838082\n",
      "Risk premium: 0.014675518785350549\n",
      "Expected stock return: 0.06467551878535055\n"
     ]
    }
   ],
   "source": [
    "\n",
    "\"\"\" Linear regression with SciPy \"\"\"\n",
    "from scipy import stats\n",
    "import pandas as pd\n",
    "import numpy as np\n",
    "\n",
    "# APPLE and GSPC returns\n",
    "\n",
    "apple = pd.read_csv('AAPL.csv')\n",
    "GSPC = pd.read_csv('MARKET_RETURNS.csv')\n",
    "Join = pd.merge(apple,GSPC,on='date').dropna()\n",
    "\n",
    "stock_returns = Join['rate'] #.values.tolist()    \n",
    "mkt_returns =  Join['rate.NYSE'] #.values.tolist()   \n",
    "\n",
    "beta, alpha, r_value, p_value, std_err = \\\n",
    "    stats.linregress(stock_returns, mkt_returns)\n",
    "print(beta, alpha)\n",
    "\n",
    "\"\"\" Calculating the SML \"\"\"\n",
    "rf = 0.05\n",
    "mrisk_prem = 0.085\n",
    "risk_prem = mrisk_prem * beta\n",
    "print(\"Risk premium:\", risk_prem)\n",
    "\n",
    "expected_stock_return = rf + risk_prem\n",
    "print(\"Expected stock return:\", expected_stock_return)"
   ]
  }
 ],
 "metadata": {
  "kernelspec": {
   "display_name": "Python 3",
   "language": "python",
   "name": "python3"
  },
  "language_info": {
   "codemirror_mode": {
    "name": "ipython",
    "version": 3
   },
   "file_extension": ".py",
   "mimetype": "text/x-python",
   "name": "python",
   "nbconvert_exporter": "python",
   "pygments_lexer": "ipython3",
   "version": "3.6.7"
  }
 },
 "nbformat": 4,
 "nbformat_minor": 2
}
