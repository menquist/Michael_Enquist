{
 "cells": [
  {
   "cell_type": "markdown",
   "metadata": {},
   "source": [
    "## Nonlinearity methods in Finance:\n",
    "### Some root-finding functions that can be found in the scipy.optimize modules are bisect, newton, brentq, and ridder. Let's set up the examples that we have discussed using the implementations by SciPy:"
   ]
  },
  {
   "cell_type": "code",
   "execution_count": 2,
   "metadata": {},
   "outputs": [
    {
     "name": "stdout",
     "output_type": "stream",
     "text": [
      "Bisection method: 1.195821762084961\n",
      "Newton's method: 1.195823345445647\n",
      "Secant method: 1.1958233454456473\n",
      "Brent's method: 1.1958233454456473\n"
     ]
    }
   ],
   "source": [
    "\"\"\"\n",
    "# Reference from Mastering Python for Finance \n",
    "\n",
    "Documentation at\n",
    "http://docs.scipy.org/doc/scipy/reference/optimize.html\n",
    "\"\"\"\n",
    "import scipy.optimize as optimize\n",
    "\n",
    "y = lambda x: x**3 + 3.*x**2 - 6.\n",
    "dy = lambda x: 3.*x**2 + 6.*x\n",
    "\n",
    "# Call method: bisect(f, a, b[, args, xtol, rtol, maxiter, ...])\n",
    "print(\"Bisection method: %s\" \\\n",
    "      % optimize.bisect(y, -5., 5., xtol=0.00001))\n",
    "\n",
    "# Call method: newton(func, x0[, fprime, args, tol, ...])\n",
    "print(\"Newton's method: %s\" \\\n",
    "      % optimize.newton(y, 5., fprime=dy))\n",
    "# When fprime=None, then the secant method is used.\n",
    "print(\"Secant method: %s\" \\\n",
    "      % optimize.newton(y, 5.))\n",
    "\n",
    "# Call method: brentq(f, a, b[, args, xtol, rtol, maxiter, ...])\n",
    "print(\"Brent's method: %s\" \\\n",
    "      % optimize.brentq(y, -5., 5.))"
   ]
  },
  {
   "cell_type": "markdown",
   "metadata": {},
   "source": [
    "#### In solving for nonlinear implied volatility models, volatility values cannot be negative. In active markets, finding a root or a zero of the volatility function is almost impossible without modifying the underlying implementation. In such cases, implementing our own root-finding methods might perhaps give us more authority over how our application should behave."
   ]
  }
 ],
 "metadata": {
  "kernelspec": {
   "display_name": "Python 3",
   "language": "python",
   "name": "python3"
  },
  "language_info": {
   "codemirror_mode": {
    "name": "ipython",
    "version": 3
   },
   "file_extension": ".py",
   "mimetype": "text/x-python",
   "name": "python",
   "nbconvert_exporter": "python",
   "pygments_lexer": "ipython3",
   "version": "3.6.7"
  }
 },
 "nbformat": 4,
 "nbformat_minor": 2
}
