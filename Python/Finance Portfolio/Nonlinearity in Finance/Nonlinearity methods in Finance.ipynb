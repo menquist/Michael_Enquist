{
 "cells": [
  {
   "cell_type": "markdown",
   "metadata": {},
   "source": [
    "## Nonlinearity in Finance\n",
    "#### Some nonlinear models commonly used for studying economics and financial time series. From the model data given in continuous time, the intention is therefore to search for the extrema that could possibly infer valuable information. The incremental search root-finder method is a basic demonstration of the fundamental behavior of a root-finding algorithm.\n",
    "\n",
    "### Incremental search algorithm:"
   ]
  },
  {
   "cell_type": "code",
   "execution_count": 3,
   "metadata": {},
   "outputs": [
    {
     "name": "stdout",
     "output_type": "stream",
     "text": [
      "Root is: 1.1954999999999834\n",
      "Iterations: 6196\n"
     ]
    }
   ],
   "source": [
    "\"\"\" An incremental search algorithm \"\"\"\n",
    "\"\"\" # Reference from Mastering Python for Finance \"\"\"\n",
    "import numpy as np\n",
    "\n",
    "\n",
    "def incremental_search(f, a, b, dx):\n",
    "    \"\"\"\n",
    "    :param f: The function to solve\n",
    "    :param a: The left boundary x-axis value\n",
    "    :param b: The right boundary x-axis value\n",
    "    :param dx: The incremental value in searching\n",
    "    :return: The x-axis value of the root,\n",
    "                number of iterations used\n",
    "    \"\"\"\n",
    "    fa = f(a)    \n",
    "    c = a + dx \n",
    "    fc = f(c)    \n",
    "    n = 1\n",
    "\n",
    "    while np.sign(fa) == np.sign(fc):\n",
    "        if a >= b:\n",
    "            return a - dx, n\n",
    "        \n",
    "        a = c\n",
    "        fa = fc\n",
    "        c = a + dx\n",
    "        fc = f(c)\n",
    "        n += 1\n",
    "\n",
    "    if fa == 0:\n",
    "        return a, n\n",
    "    elif fc == 0:\n",
    "        return c, n\n",
    "    else:\n",
    "        return (a + c)/2., n\n",
    "\n",
    "if __name__ == \"__main__\":\n",
    "    \"\"\"\n",
    "    The keyword 'lambda' creates an anonymous function\n",
    "    with input argument x\n",
    "    \"\"\"\n",
    "    y = lambda x: x**3 + 3.0*x**2 - 6.\n",
    "    root, iterations = incremental_search(y, -5., 5., 0.001)\n",
    "    print(\"Root is:\", root)\n",
    "    print(\"Iterations:\", iterations)"
   ]
  },
  {
   "cell_type": "markdown",
   "metadata": {},
   "source": [
    "#### The incremental search root-finder method is a basic demonstration of the fundamental behavior of a root-finding algorithm."
   ]
  },
  {
   "cell_type": "markdown",
   "metadata": {},
   "source": [
    "### The bisection method:\n",
    "#### The bisection method is considered the simplest one-dimensional root-finding algorithm."
   ]
  },
  {
   "cell_type": "code",
   "execution_count": 4,
   "metadata": {},
   "outputs": [
    {
     "name": "stdout",
     "output_type": "stream",
     "text": [
      "Root is: 1.195821762084961\n",
      "Iterations: 20\n"
     ]
    }
   ],
   "source": [
    "\"\"\" The bisection method \"\"\"\n",
    "\"\"\" # Reference from Mastering Python for Finance \"\"\"\n",
    "\n",
    "def bisection(f, a, b, tol=0.1, maxiter=10):\n",
    "    \"\"\"\n",
    "    :param f: The function to solve\n",
    "    :param a: The x-axis value where f(a)<0\n",
    "    :param b: The x-axis value where f(b)>0\n",
    "    :param tol: The precision of the solution\n",
    "    :param maxiter: Maximum number of iterations\n",
    "    :return: The x-axis value of the root,\n",
    "                number of iterations used\n",
    "    \"\"\"\n",
    "    c = (a+b)*0.5  # Declare c as the midpoint ab\n",
    "    n = 1  # Start with 1 iteration\n",
    "    while n <= maxiter:\n",
    "        c = (a+b)*0.5\n",
    "        if f(c) == 0 or abs(a-b)*0.5 < tol:\n",
    "            # Root is found or is very close\n",
    "            return c, n\n",
    "\n",
    "        n += 1\n",
    "        if f(c) < 0:\n",
    "            a = c\n",
    "        else:\n",
    "            b = c\n",
    "                \n",
    "    return c, n\n",
    "\n",
    "if __name__ == \"__main__\":\n",
    "    y = lambda x: x**3 + 3*x**2 - 6\n",
    "    root, iterations = bisection(y, -5, 5, 0.00001, 100)\n",
    "    print(\"Root is:\", root)\n",
    "    print(\"Iterations:\", iterations)"
   ]
  },
  {
   "cell_type": "markdown",
   "metadata": {},
   "source": [
    "#### As we can see, the result from the bisection method gives us better precision in far fewer iterations over the incremental search method. The biggest advantage of using the bisection method is its guarantee to converge to an approximation of the root, given a predetermined error tolerance level and the maximum number of iterations allowed.\n",
    "\n",
    "### The secant root-finding method:\n",
    "\n",
    "#### The secant method uses secant lines to find the root. A secant line is a straight line that intersects two points of a curve. This method can be thought of as a Quasi-Newton method."
   ]
  },
  {
   "cell_type": "code",
   "execution_count": 6,
   "metadata": {},
   "outputs": [
    {
     "name": "stdout",
     "output_type": "stream",
     "text": [
      "Root is: 1.1958233454453489\n",
      "Iterations: 41\n"
     ]
    }
   ],
   "source": [
    "\"\"\" The secant root-finding method \"\"\"\n",
    "\"\"\" # Reference from Mastering Python for Finance \"\"\"\n",
    "\n",
    "def secant(f, a, b, tol=0.001, maxiter=100):\n",
    "    \"\"\"\n",
    "    :param f: The function to solve\n",
    "    :param a: Initial x-axis guess value\n",
    "    :param b: Initial x-axis guess value, where b>a\n",
    "    :param tol: The precision of the solution\n",
    "    :param maxiter: Maximum number of iterations\n",
    "    :return: The x-axis value of the root,\n",
    "                number of iterations used\n",
    "    \"\"\"\n",
    "    n = 1\n",
    "    while n <= maxiter:\n",
    "        c = b - f(b)*((b-a)/(f(b)-f(a)))\n",
    "        if abs(c-b) < tol:\n",
    "            return c, n\n",
    "\n",
    "        a = b\n",
    "        b = c\n",
    "        n += 1\n",
    "\n",
    "    return None, n\n",
    "\n",
    "if __name__ == \"__main__\":\n",
    "    y = lambda x: x**3 + 3*x**2 - 6\n",
    "    root, iterations = secant(y, -5.0, 5.0, 0.00001, 100)\n",
    "    print(\"Root is:\", root)\n",
    "    print(\"Iterations:\", iterations)"
   ]
  },
  {
   "cell_type": "markdown",
   "metadata": {},
   "source": [
    "#### Though all of the preceding root-finding methods gave very close solutions, the secant method performs with fewer iterations compared to the bisection method, but with more than Newton's method. "
   ]
  }
 ],
 "metadata": {
  "kernelspec": {
   "display_name": "Python 3",
   "language": "python",
   "name": "python3"
  },
  "language_info": {
   "codemirror_mode": {
    "name": "ipython",
    "version": 3
   },
   "file_extension": ".py",
   "mimetype": "text/x-python",
   "name": "python",
   "nbconvert_exporter": "python",
   "pygments_lexer": "ipython3",
   "version": "3.6.7"
  }
 },
 "nbformat": 4,
 "nbformat_minor": 2
}
