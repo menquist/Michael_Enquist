{
 "cells": [
  {
   "cell_type": "code",
   "execution_count": 1,
   "metadata": {},
   "outputs": [
    {
     "name": "stdout",
     "output_type": "stream",
     "text": [
      "1/9\n"
     ]
    }
   ],
   "source": [
    "import math\n",
    "\n",
    "# In a single toss of 2 fair (evenly-weighted) six-sided dice,\n",
    "# find the probability that the values rolled by each die will be different and the two dice have a sum of 6.\n",
    "from fractions import Fraction\n",
    "\n",
    "dice_max = 6\n",
    "dice_min = 1\n",
    "dice_range = range(dice_min, dice_max + 1)\n",
    "count = 0\n",
    "for d1 in dice_range:\n",
    "\tfor d2 in dice_range:\n",
    "\t\tif (d1 != d2) and ((d1 + d2) == 6):\n",
    "\t\t\tcount += 1\n",
    "possibilities = dice_max ** 2\n",
    "print(Fraction(count, possibilities))\n",
    "\n"
   ]
  },
  {
   "cell_type": "code",
   "execution_count": null,
   "metadata": {
    "collapsed": true
   },
   "outputs": [],
   "source": []
  }
 ],
 "metadata": {
  "kernelspec": {
   "display_name": "Python 3",
   "language": "python",
   "name": "python3"
  },
  "language_info": {
   "codemirror_mode": {
    "name": "ipython",
    "version": 3
   },
   "file_extension": ".py",
   "mimetype": "text/x-python",
   "name": "python",
   "nbconvert_exporter": "python",
   "pygments_lexer": "ipython3",
   "version": "3.6.3"
  }
 },
 "nbformat": 4,
 "nbformat_minor": 2
}
